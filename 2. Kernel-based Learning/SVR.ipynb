{
 "cells": [
  {
   "cell_type": "code",
   "execution_count": null,
   "metadata": {},
   "outputs": [],
   "source": []
  }
 ],
 "metadata": {
  "kernelspec": {
   "display_name": "Python 3.7.13 ('env1')",
   "language": "python",
   "name": "python3"
  },
  "language_info": {
   "name": "python",
   "version": "3.7.13"
  },
  "orig_nbformat": 4,
  "vscode": {
   "interpreter": {
    "hash": "1356ef88b5c2ac99ebe953b457ac8406c0f2d32dd7655610de7b04c791e04d7a"
   }
  }
 },
 "nbformat": 4,
 "nbformat_minor": 2
}
